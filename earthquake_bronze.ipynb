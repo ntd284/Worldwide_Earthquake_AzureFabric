{
 "cells": [
  {
   "cell_type": "code",
   "execution_count": null,
   "id": "9c5c8f4b-90d9-40ef-aade-e523af9b1da8",
   "metadata": {
    "microsoft": {
     "language": "python",
     "language_group": "synapse_pyspark"
    }
   },
   "outputs": [],
   "source": [
    "import requests\n",
    "import json"
   ]
  },
  {
   "cell_type": "code",
   "execution_count": null,
   "id": "5c5cbcc7-813c-4c45-a09e-e34abca002ac",
   "metadata": {
    "jupyter": {
     "outputs_hidden": false,
     "source_hidden": false
    },
    "microsoft": {
     "language": "python",
     "language_group": "synapse_pyspark"
    },
    "nteract": {
     "transient": {
      "deleting": false
     }
    }
   },
   "outputs": [],
   "source": [
    "url = f\"https://earthquake.usgs.gov/fdsnws/event/1/query?format=geojson&starttime={start_date}&endtime={end_date}\"\n",
    "\n",
    "response = requests.get(url)\n",
    "\n",
    "if response.status_code == 200:\n",
    "    data = response.json()\n",
    "    data = data['features']\n",
    "    \n",
    "    file_path = f'/lakehouse/default/Files/{start_date}_earthquake_data.json'\n",
    "\n",
    "    with open(file_path,'w') as file:\n",
    "        json.dump(data,file,indent=4)\n",
    "    \n",
    "    print(f'Data success saved to {file_path}')\n",
    "\n",
    "else:\n",
    "    print('Failed to fetch data')\n",
    "\n",
    "\n",
    "\n"
   ]
  }
 ],
 "metadata": {
  "dependencies": {
   "lakehouse": {
    "default_lakehouse": "e37b130a-d55c-407c-8cba-0f5911252469",
    "default_lakehouse_name": "Earthquake_LH",
    "default_lakehouse_workspace_id": "e3d96bf6-7127-4c5f-bc73-b30067240f85"
   }
  },
  "kernel_info": {
   "name": "synapse_pyspark"
  },
  "kernelspec": {
   "display_name": "Synapse PySpark",
   "language": "Python",
   "name": "synapse_pyspark"
  },
  "language_info": {
   "name": "python"
  },
  "microsoft": {
   "language": "python",
   "language_group": "synapse_pyspark",
   "ms_spell_check": {
    "ms_spell_check_language": "en"
   }
  },
  "nteract": {
   "version": "nteract-front-end@1.0.0"
  },
  "spark_compute": {
   "compute_id": "/trident/default",
   "session_options": {
    "conf": {
     "spark.synapse.nbs.session.timeout": "1200000"
    }
   }
  }
 },
 "nbformat": 4,
 "nbformat_minor": 5
}
