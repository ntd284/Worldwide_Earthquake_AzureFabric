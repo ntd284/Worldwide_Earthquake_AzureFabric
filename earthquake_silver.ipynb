{
 "cells": [
  {
   "cell_type": "code",
   "execution_count": 5,
   "id": "c1a519c3-332b-4a0a-bac6-fb9d8db8d35c",
   "metadata": {
    "microsoft": {
     "language": "python",
     "language_group": "synapse_pyspark"
    }
   },
   "outputs": [
    {
     "data": {
      "application/vnd.livy.statement-meta+json": {
       "execution_finish_time": "2024-12-25T10:36:48.3998256Z",
       "execution_start_time": "2024-12-25T10:36:48.0799157Z",
       "livy_statement_state": "available",
       "normalized_state": "finished",
       "parent_msg_id": "4eebceb5-860f-4b9a-b2b3-27834e404e02",
       "queued_time": "2024-12-25T10:36:46.861936Z",
       "session_id": "c2df4e61-599e-4ef6-ae9c-5e5488daf7b7",
       "session_start_time": null,
       "spark_pool": null,
       "state": "finished",
       "statement_id": 7,
       "statement_ids": [
        7
       ]
      },
      "text/plain": [
       "StatementMeta(, c2df4e61-599e-4ef6-ae9c-5e5488daf7b7, 7, Finished, Available, Finished)"
      ]
     },
     "metadata": {},
     "output_type": "display_data"
    }
   ],
   "source": [
    "from pyspark.sql.functions import col \n",
    "from pyspark.sql.types import TimestampType"
   ]
  },
  {
   "cell_type": "code",
   "execution_count": 8,
   "id": "93dcbca3-e034-48df-9695-2ba0b9ea8b1f",
   "metadata": {
    "collapsed": false,
    "jupyter": {
     "outputs_hidden": false,
     "source_hidden": false
    },
    "microsoft": {
     "language": "python",
     "language_group": "synapse_pyspark"
    },
    "nteract": {
     "transient": {
      "deleting": false
     }
    }
   },
   "outputs": [
    {
     "data": {
      "application/vnd.livy.statement-meta+json": {
       "execution_finish_time": "2024-12-25T10:36:52.2609331Z",
       "execution_start_time": "2024-12-25T10:36:51.2074192Z",
       "livy_statement_state": "available",
       "normalized_state": "finished",
       "parent_msg_id": "a2d0cdf9-145e-490b-89cc-0413031120c5",
       "queued_time": "2024-12-25T10:36:47.015414Z",
       "session_id": "c2df4e61-599e-4ef6-ae9c-5e5488daf7b7",
       "session_start_time": null,
       "spark_pool": null,
       "state": "finished",
       "statement_id": 10,
       "statement_ids": [
        10
       ]
      },
      "text/plain": [
       "StatementMeta(, c2df4e61-599e-4ef6-ae9c-5e5488daf7b7, 10, Finished, Available, Finished)"
      ]
     },
     "metadata": {},
     "output_type": "display_data"
    }
   ],
   "source": [
    "df = spark.read.option(\"multiline\", \"true\").json(f\"Files/{start_date}_earthquake_data.json\")"
   ]
  },
  {
   "cell_type": "code",
   "execution_count": 9,
   "id": "2522ecf7-2715-4703-afb2-124da2977888",
   "metadata": {
    "jupyter": {
     "outputs_hidden": false,
     "source_hidden": false
    },
    "microsoft": {
     "language": "python",
     "language_group": "synapse_pyspark"
    },
    "nteract": {
     "transient": {
      "deleting": false
     }
    }
   },
   "outputs": [
    {
     "data": {
      "application/vnd.livy.statement-meta+json": {
       "execution_finish_time": "2024-12-25T10:36:53.0561229Z",
       "execution_start_time": "2024-12-25T10:36:52.7188878Z",
       "livy_statement_state": "available",
       "normalized_state": "finished",
       "parent_msg_id": "eaed6c76-0a2b-47c2-8664-ad29c6743ab0",
       "queued_time": "2024-12-25T10:36:47.0628558Z",
       "session_id": "c2df4e61-599e-4ef6-ae9c-5e5488daf7b7",
       "session_start_time": null,
       "spark_pool": null,
       "state": "finished",
       "statement_id": 11,
       "statement_ids": [
        11
       ]
      },
      "text/plain": [
       "StatementMeta(, c2df4e61-599e-4ef6-ae9c-5e5488daf7b7, 11, Finished, Available, Finished)"
      ]
     },
     "metadata": {},
     "output_type": "display_data"
    }
   ],
   "source": [
    "df = df.select(\"id\",\n",
    "                col(\"geometry.coordinates\")[0].alias('longitude'),\n",
    "                col(\"geometry.coordinates\")[1].alias('latitude'),\n",
    "                col(\"geometry.coordinates\")[2].alias('elevation'),\n",
    "                col(\"properties.title\").alias(\"title\"),\n",
    "                col(\"properties.place\").alias(\"place_description\"),\n",
    "                col(\"properties.sig\").alias(\"sig\"),\n",
    "                col(\"properties.mag\").alias(\"mag\"),\n",
    "                col(\"properties.magType\").alias(\"magType\"),\n",
    "                col(\"properties.time\").alias(\"time\"),\n",
    "                col(\"properties.updated\").alias(\"updated\"))\n",
    "\n",
    "\n"
   ]
  },
  {
   "cell_type": "code",
   "execution_count": 10,
   "id": "edb17a2e-0f8a-4fe6-bfd5-7c9fb1d9c659",
   "metadata": {
    "jupyter": {
     "outputs_hidden": false,
     "source_hidden": false
    },
    "microsoft": {
     "language": "python",
     "language_group": "synapse_pyspark"
    },
    "nteract": {
     "transient": {
      "deleting": false
     }
    }
   },
   "outputs": [
    {
     "data": {
      "application/vnd.livy.statement-meta+json": {
       "execution_finish_time": "2024-12-25T10:36:53.9389864Z",
       "execution_start_time": "2024-12-25T10:36:53.5744923Z",
       "livy_statement_state": "available",
       "normalized_state": "finished",
       "parent_msg_id": "e42c67c5-98e5-4c2a-9d0f-8077ef0b5e9f",
       "queued_time": "2024-12-25T10:36:47.1092905Z",
       "session_id": "c2df4e61-599e-4ef6-ae9c-5e5488daf7b7",
       "session_start_time": null,
       "spark_pool": null,
       "state": "finished",
       "statement_id": 12,
       "statement_ids": [
        12
       ]
      },
      "text/plain": [
       "StatementMeta(, c2df4e61-599e-4ef6-ae9c-5e5488daf7b7, 12, Finished, Available, Finished)"
      ]
     },
     "metadata": {},
     "output_type": "display_data"
    }
   ],
   "source": [
    "df = df. \\\n",
    "        withColumn('time',col('time')/1000).\\\n",
    "        withColumn('updated',col('updated')/1000).\\\n",
    "        withColumn('time',col('time').cast(TimestampType())). \\\n",
    "        withColumn('updated',col('updated').cast(TimestampType()))\n",
    "\n"
   ]
  },
  {
   "cell_type": "code",
   "execution_count": 11,
   "id": "09aa93cb-7030-44d8-9f64-4ce543e3f88d",
   "metadata": {
    "jupyter": {
     "outputs_hidden": false,
     "source_hidden": false
    },
    "microsoft": {
     "language": "python",
     "language_group": "synapse_pyspark"
    },
    "nteract": {
     "transient": {
      "deleting": false
     }
    }
   },
   "outputs": [
    {
     "data": {
      "application/vnd.livy.statement-meta+json": {
       "execution_finish_time": "2024-12-25T10:37:12.5293553Z",
       "execution_start_time": "2024-12-25T10:36:54.4534722Z",
       "livy_statement_state": "available",
       "normalized_state": "finished",
       "parent_msg_id": "33bfa8ee-844d-4604-bcc3-1915dc052add",
       "queued_time": "2024-12-25T10:36:47.154685Z",
       "session_id": "c2df4e61-599e-4ef6-ae9c-5e5488daf7b7",
       "session_start_time": null,
       "spark_pool": null,
       "state": "finished",
       "statement_id": 13,
       "statement_ids": [
        13
       ]
      },
      "text/plain": [
       "StatementMeta(, c2df4e61-599e-4ef6-ae9c-5e5488daf7b7, 13, Finished, Available, Finished)"
      ]
     },
     "metadata": {},
     "output_type": "display_data"
    }
   ],
   "source": [
    "df.write.mode('overwrite').saveAsTable('earthquake_event_silver')"
   ]
  },
  {
   "cell_type": "markdown",
   "id": "2ad01755-bdd6-473a-bfe7-8744dccf53c5",
   "metadata": {
    "microsoft": {
     "language": "python",
     "language_group": "synapse_pyspark"
    },
    "nteract": {
     "transient": {
      "deleting": false
     }
    }
   },
   "source": []
  }
 ],
 "metadata": {
  "dependencies": {
   "lakehouse": {
    "default_lakehouse": "e37b130a-d55c-407c-8cba-0f5911252469",
    "default_lakehouse_name": "Earthquake_LH",
    "default_lakehouse_workspace_id": "e3d96bf6-7127-4c5f-bc73-b30067240f85"
   }
  },
  "kernel_info": {
   "name": "synapse_pyspark"
  },
  "kernelspec": {
   "display_name": "Synapse PySpark",
   "language": "Python",
   "name": "synapse_pyspark"
  },
  "language_info": {
   "name": "python"
  },
  "microsoft": {
   "language": "python",
   "language_group": "synapse_pyspark",
   "ms_spell_check": {
    "ms_spell_check_language": "en"
   }
  },
  "nteract": {
   "version": "nteract-front-end@1.0.0"
  },
  "spark_compute": {
   "compute_id": "/trident/default",
   "session_options": {
    "conf": {
     "spark.synapse.nbs.session.timeout": "1200000"
    }
   }
  },
  "synapse_widget": {
   "state": {},
   "version": "0.1"
  }
 },
 "nbformat": 4,
 "nbformat_minor": 5
}
