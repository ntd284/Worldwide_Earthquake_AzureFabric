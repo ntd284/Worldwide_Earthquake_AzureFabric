{
 "cells": [
  {
   "cell_type": "code",
   "execution_count": null,
   "id": "a5d87731-c95f-4b2f-bc81-1d5979a658bc",
   "metadata": {
    "microsoft": {
     "language": "python",
     "language_group": "synapse_pyspark"
    }
   },
   "outputs": [],
   "source": [
    "from pyspark.sql.functions import when, col, udf\n",
    "from pyspark.sql.types import StringType\n",
    "\n",
    "import reverse_geocoder as rg\n",
    "\n"
   ]
  },
  {
   "cell_type": "code",
   "execution_count": null,
   "id": "bc7522e5-5bfe-4102-a26c-92d2ec91fdab",
   "metadata": {
    "jupyter": {
     "outputs_hidden": false,
     "source_hidden": false
    },
    "microsoft": {
     "language": "python",
     "language_group": "synapse_pyspark"
    },
    "nteract": {
     "transient": {
      "deleting": false
     }
    }
   },
   "outputs": [],
   "source": [
    "df = spark.read.table('earthquake_event_silver')"
   ]
  },
  {
   "cell_type": "code",
   "execution_count": null,
   "id": "759753a0-f11f-4ee5-82fd-063785376118",
   "metadata": {
    "jupyter": {
     "outputs_hidden": false,
     "source_hidden": false
    },
    "microsoft": {
     "language": "python",
     "language_group": "synapse_pyspark"
    },
    "nteract": {
     "transient": {
      "deleting": false
     }
    }
   },
   "outputs": [],
   "source": [
    "def get_country_code(lat,lon):\n",
    "    coordinates = (float(lat),float(lon))\n",
    "    return rg.search(coordinates)[0].get('cc')\n",
    "\n"
   ]
  },
  {
   "cell_type": "code",
   "execution_count": null,
   "id": "adcc7807-82d5-4995-b72a-dd677676ef33",
   "metadata": {
    "jupyter": {
     "outputs_hidden": false,
     "source_hidden": false
    },
    "microsoft": {
     "language": "python",
     "language_group": "synapse_pyspark"
    },
    "nteract": {
     "transient": {
      "deleting": false
     }
    }
   },
   "outputs": [],
   "source": [
    "get_country_code_udf = udf(get_country_code, StringType())"
   ]
  },
  {
   "cell_type": "code",
   "execution_count": null,
   "id": "8a18be9a-417b-45f2-b9c0-a38965eaff3e",
   "metadata": {
    "jupyter": {
     "outputs_hidden": false,
     "source_hidden": false
    },
    "microsoft": {
     "language": "python",
     "language_group": "synapse_pyspark"
    },
    "nteract": {
     "transient": {
      "deleting": false
     }
    }
   },
   "outputs": [],
   "source": [
    "df_with_location = df.withColumn('country_code',get_country_code_udf(col('latitude'),col('longitude')))"
   ]
  },
  {
   "cell_type": "code",
   "execution_count": null,
   "id": "2065b3ff-87a1-4ad5-8df1-db383e77c075",
   "metadata": {
    "jupyter": {
     "outputs_hidden": false,
     "source_hidden": false
    },
    "microsoft": {
     "language": "python",
     "language_group": "synapse_pyspark"
    },
    "nteract": {
     "transient": {
      "deleting": false
     }
    }
   },
   "outputs": [],
   "source": [
    "df_with_location_sig_class = df_with_location.withColumn('sig_class', when(col('sig') < 100,'Low').\\\n",
    "                                                        when((col('sig') > 100) & (col('sig') < 500), 'Moderate').\\\n",
    "                                                        otherwise(\"High\"))\n",
    "# df_with_location_sig_class.show()"
   ]
  },
  {
   "cell_type": "code",
   "execution_count": null,
   "id": "f4c45381-e07f-462a-9ce0-4b2a51e25afe",
   "metadata": {
    "jupyter": {
     "outputs_hidden": false,
     "source_hidden": false
    },
    "microsoft": {
     "language": "python",
     "language_group": "synapse_pyspark"
    },
    "nteract": {
     "transient": {
      "deleting": false
     }
    }
   },
   "outputs": [],
   "source": [
    "df_with_location_sig_class.write.mode('overwrite').saveAsTable('earthquake_events_gold')"
   ]
  }
 ],
 "metadata": {
  "dependencies": {
   "environment": {
    "environmentId": "f9e1ce87-0165-4c8c-ae02-1fb3e537195d",
    "workspaceId": "e3d96bf6-7127-4c5f-bc73-b30067240f85"
   },
   "lakehouse": {
    "default_lakehouse": "e37b130a-d55c-407c-8cba-0f5911252469",
    "default_lakehouse_name": "Earthquake_LH",
    "default_lakehouse_workspace_id": "e3d96bf6-7127-4c5f-bc73-b30067240f85"
   }
  },
  "kernel_info": {
   "name": "synapse_pyspark"
  },
  "kernelspec": {
   "display_name": "Synapse PySpark",
   "language": "Python",
   "name": "synapse_pyspark"
  },
  "language_info": {
   "name": "python"
  },
  "microsoft": {
   "language": "python",
   "language_group": "synapse_pyspark",
   "ms_spell_check": {
    "ms_spell_check_language": "en"
   }
  },
  "nteract": {
   "version": "nteract-front-end@1.0.0"
  },
  "spark_compute": {
   "compute_id": "/trident/default",
   "session_options": {
    "conf": {
     "spark.synapse.nbs.session.timeout": "1200000"
    }
   }
  },
  "synapse_widget": {
   "state": {},
   "version": "0.1"
  }
 },
 "nbformat": 4,
 "nbformat_minor": 5
}
